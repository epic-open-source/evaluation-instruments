{
 "cells": [
  {
   "cell_type": "markdown",
   "id": "f31ca555-18fe-4383-b9f0-86189831d126",
   "metadata": {},
   "source": [
    "## Configure your Foundation Model"
   ]
  },
  {
   "cell_type": "markdown",
   "id": "7e59b46a-6fe4-432f-b62a-461cbfd701de",
   "metadata": {},
   "source": [
    "Setting up your foundation model is beyond the scope of this repository, as there is not a unified method.  \n",
    "We lean on the protocol used by <ins>[LiteLLM chat completions](https://docs.litellm.ai/docs/completion)</ins> as it provides a consistent method for interacting with a wide variety of providers.  It also makes things \"look like\" OpenAI so it is expected to need minimal adaptation for a majority of usecases.\n",
    "\n",
    "Configuration will usually involve specifying how to make authorized calls to your model, so will most frequently be setting secrets in keys and possibly specifying custom urls.\n",
    "\n",
    "The evaluation framework expects parts from both ends of a completion function.  <br/>\n",
    "The <ins>[completion function](https://docs.litellm.ai/docs/completion/input)</ins> should be callable and support input arguments of a model specifier, messages array (list of dicts with user+content), and any provider specific configuration.<br/>\n",
    "Currently two pieces of the <ins>[output json](https://docs.litellm.ai/docs/completion/output)</ins> are expected:  \n",
    "\n",
    "- `response['choices'][0]['message']['content']` should be the text of the completion\n",
    "- `response['usage']` should whichever keys in total_tokens, completion_tokens, and prompt_tokens that you might want to limit for an evaluation."
   ]
  },
  {
   "cell_type": "code",
   "execution_count": null,
   "id": "26e7d41e-3dbc-4004-a5f8-7bc9bfc172eb",
   "metadata": {},
   "outputs": [],
   "source": [
    "# Generally you'll need to set up some connections and authorization such tokens or keys.\n",
    "# In this case all of that is hardcoded in the module\n",
    "from example_provider import completion"
   ]
  },
  {
   "cell_type": "markdown",
   "id": "5cb1f698-99d6-4082-aadc-e37770bbd96c",
   "metadata": {},
   "source": [
    "## Get data"
   ]
  },
  {
   "cell_type": "markdown",
   "id": "ae1128db-b84c-4d7a-bb2b-8ec172e2feb9",
   "metadata": {},
   "source": [
    "Data is messy.  It's rare that there will not be some finer alignment when using a model.  \n",
    "For the coding-savvy, much of this can be offloaded into a data_prep function.\n",
    "\n",
    "Common patterns of managing data for these analyses include using pandas dataframes for in memory representation, or serialized to file for more focused access.\n",
    "This example combines the two to give a starting point that is partially applicable for either. Here our in-memory dataframe is a list of file descriptors, and the prompt creation includes the logic of reading these files before resolving the evaluation message array."
   ]
  },
  {
   "cell_type": "code",
   "execution_count": null,
   "id": "f5cd0c3e-16c8-4567-9921-392416fba03d",
   "metadata": {},
   "outputs": [],
   "source": [
    "import pandas as pd\n",
    "data_path = \"/home/seismo/workspace/examples/data/\"\n",
    "\n",
    "input_df = pd.DataFrame({\"guid\":['00a5d60f-04fb-4b93-bb88-af5a686aa871',\n",
    "                                 '000df600-cde6-43d3-b94d-07000216cd17',\n",
    "                                 '000df600-cde6-43d3-b94d-07000216cd17']},\n",
    "                        index=['000', '00a', '00a-2'])\n",
    "input_df.index.name = \"myIx\"\n",
    "input_df.guid = data_path + input_df.guid"
   ]
  },
  {
   "cell_type": "markdown",
   "id": "777dfa11-3257-46d3-9269-59584842d56e",
   "metadata": {},
   "source": [
    "## Setup the instrument"
   ]
  },
  {
   "cell_type": "markdown",
   "id": "b5d86156-6aa4-4d7b-b23f-f0bb24b01cfb",
   "metadata": {},
   "source": [
    "Selection of a pre-formed prompt can be done via module imports. Namely, the data_prep_fn mentioned alongside data as these two parts must be compatible.\n",
    "\n",
    "Regardless of the data details, the evaluation loop uses pandas.DataFrame.itertuples. <br/>\n",
    "The data_prep function should take this namedtuple of a single row and produce a single messages array compatible with the second positional argument of the completion function (loaded above).\n",
    "\n",
    "Then we initialize our evaluator with, at minimum, the completion and preparation function.  <br/>\n",
    "This can also set some capacity limit on token usage.  While a lot of these options are expected to be handled by the completion provider, the Evaluation class can support aborting the loop after a number of cumulative tokens are exceeded.  This requires that completion return usage total_tokens.\n"
   ]
  },
  {
   "cell_type": "code",
   "execution_count": null,
   "id": "32f85453-a046-40d8-8ff1-bc4ab5bf7290",
   "metadata": {},
   "outputs": [],
   "source": [
    "from pdsqi_prompt import pdsqi_from_file\n",
    "import evaluation_instruments as ev\n",
    "\n",
    "ev.set_logging(10) # DEBUG\n",
    "evaluator = ev.Evaluation(\n",
    "    completion_fn = completion,\n",
    "    prep_fn= pdsqi_from_file,\n",
    "    log_enabled = True,\n",
    "    max_tokens = 10_000\n",
    ")"
   ]
  },
  {
   "cell_type": "code",
   "execution_count": null,
   "id": "d700753f-56fb-45f7-9a00-c3bffc170654",
   "metadata": {},
   "outputs": [],
   "source": []
  },
  {
   "cell_type": "markdown",
   "id": "910106ae-04bb-4643-af37-2ce2b8256d37",
   "metadata": {},
   "source": [
    "# Evaluate"
   ]
  },
  {
   "cell_type": "markdown",
   "id": "500dd675-7df3-41f9-86bb-334a51d3af3c",
   "metadata": {},
   "source": [
    "Now, all that is left is to run the dataset through it.  \n",
    "The run_dataset requires a dataframe where one row at a time is evaluated in a very similar manner as a HuggingFace Pipeline, chaining three steps:\n",
    "- prompt = prep_fn(namedtuple[dataframe itertuples])\n",
    "- raw_output = completion_fn(model, prompt)\n",
    "- response, usage = post_process_fn(raw_output)\n",
    "\n",
    "The default post_process_fn will extract a single completion and assumes a json-style completion.  The function will further try to parse such a json.\n",
    "\n",
    "The ultimate output of run_dataset is two-fold:\n",
    "- A dictionary keyed off of the index from the original dataframe to the value from parsing the completion-json (or whatever the first output of post_process_fn returns)\n",
    "- A total accumulated TokenUsage\n",
    "\n",
    "If log_enabled is set to True, the run will output all the individual lines of raw_output under evaluation/logs/raw_content_<TIMESTAMP>.jsonl "
   ]
  },
  {
   "cell_type": "code",
   "execution_count": null,
   "id": "1e13e973-9d29-46bd-ae7d-7ab1d02b8e52",
   "metadata": {},
   "outputs": [],
   "source": [
    "output = evaluator.run_dataset(input_df, model='gpt-4o-mini')"
   ]
  },
  {
   "cell_type": "markdown",
   "id": "1df63dc2-2566-4cf5-8398-29d994531b29",
   "metadata": {},
   "source": [
    "# Inspect"
   ]
  },
  {
   "cell_type": "code",
   "execution_count": null,
   "id": "e85dd9b4-b6ea-4e12-80ba-aab05aea152c",
   "metadata": {},
   "outputs": [],
   "source": [
    "grades = ev.frame_from_evals(output[0])\n",
    "grades.xs('score', axis=1, level=1)"
   ]
  },
  {
   "cell_type": "code",
   "execution_count": null,
   "id": "073a5eaa-6c93-4440-b3d0-3d1082db362f",
   "metadata": {},
   "outputs": [],
   "source": [
    "grades.xs('evidence', axis=1, level=1).T"
   ]
  },
  {
   "cell_type": "code",
   "execution_count": null,
   "id": "e69cb611-45d4-443f-a7c4-64b6a4f5ebaf",
   "metadata": {},
   "outputs": [],
   "source": [
    "with pd.option_context('display.max_colwidth', None):\n",
    "    display(grades['Useful'][['score','evidence']])"
   ]
  },
  {
   "cell_type": "code",
   "execution_count": null,
   "id": "44c92e84-1d53-490c-bd68-647dd68b88f8",
   "metadata": {},
   "outputs": [],
   "source": []
  }
 ],
 "metadata": {
  "kernelspec": {
   "display_name": "Python 3 (ipykernel)",
   "language": "python",
   "name": "python3"
  },
  "language_info": {
   "codemirror_mode": {
    "name": "ipython",
    "version": 3
   },
   "file_extension": ".py",
   "mimetype": "text/x-python",
   "name": "python",
   "nbconvert_exporter": "python",
   "pygments_lexer": "ipython3",
   "version": "3.12.7"
  }
 },
 "nbformat": 4,
 "nbformat_minor": 5
}
